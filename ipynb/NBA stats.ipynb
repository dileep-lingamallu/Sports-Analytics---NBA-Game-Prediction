{
 "cells": [
  {
   "cell_type": "code",
   "execution_count": 1,
   "id": "fa2225cb",
   "metadata": {
    "collapsed": true
   },
   "outputs": [
    {
     "name": "stdout",
     "output_type": "stream",
     "text": [
      "Collecting nba-api\n",
      "  Downloading nba_api-1.7.0-py3-none-any.whl.metadata (5.5 kB)\n",
      "Requirement already satisfied: pandas in /Users/dileep/opt/anaconda3/envs/data_min/lib/python3.9/site-packages (1.4.1)\n",
      "Requirement already satisfied: numpy<2.0.0,>=1.22.2 in /Users/dileep/opt/anaconda3/envs/data_min/lib/python3.9/site-packages (from nba-api) (1.22.3)\n",
      "Collecting requests<3.0.0,>=2.32.3 (from nba-api)\n",
      "  Using cached requests-2.32.3-py3-none-any.whl.metadata (4.6 kB)\n",
      "Requirement already satisfied: python-dateutil>=2.8.1 in /Users/dileep/opt/anaconda3/envs/data_min/lib/python3.9/site-packages (from pandas) (2.8.2)\n",
      "Requirement already satisfied: pytz>=2020.1 in /Users/dileep/opt/anaconda3/envs/data_min/lib/python3.9/site-packages (from pandas) (2021.3)\n",
      "Requirement already satisfied: six>=1.5 in /Users/dileep/opt/anaconda3/envs/data_min/lib/python3.9/site-packages (from python-dateutil>=2.8.1->pandas) (1.16.0)\n",
      "Requirement already satisfied: charset-normalizer<4,>=2 in /Users/dileep/opt/anaconda3/envs/data_min/lib/python3.9/site-packages (from requests<3.0.0,>=2.32.3->nba-api) (2.1.1)\n",
      "Requirement already satisfied: idna<4,>=2.5 in /Users/dileep/opt/anaconda3/envs/data_min/lib/python3.9/site-packages (from requests<3.0.0,>=2.32.3->nba-api) (3.3)\n",
      "Requirement already satisfied: urllib3<3,>=1.21.1 in /Users/dileep/opt/anaconda3/envs/data_min/lib/python3.9/site-packages (from requests<3.0.0,>=2.32.3->nba-api) (1.26.12)\n",
      "Requirement already satisfied: certifi>=2017.4.17 in /Users/dileep/opt/anaconda3/envs/data_min/lib/python3.9/site-packages (from requests<3.0.0,>=2.32.3->nba-api) (2021.10.8)\n",
      "Downloading nba_api-1.7.0-py3-none-any.whl (280 kB)\n",
      "Using cached requests-2.32.3-py3-none-any.whl (64 kB)\n",
      "Installing collected packages: requests, nba-api\n",
      "  Attempting uninstall: requests\n",
      "    Found existing installation: requests 2.28.1\n",
      "    Uninstalling requests-2.28.1:\n",
      "      Successfully uninstalled requests-2.28.1\n",
      "Successfully installed nba-api-1.7.0 requests-2.32.3\n",
      "\n",
      "\u001b[1m[\u001b[0m\u001b[34;49mnotice\u001b[0m\u001b[1;39;49m]\u001b[0m\u001b[39;49m A new release of pip is available: \u001b[0m\u001b[31;49m24.2\u001b[0m\u001b[39;49m -> \u001b[0m\u001b[32;49m24.3.1\u001b[0m\n",
      "\u001b[1m[\u001b[0m\u001b[34;49mnotice\u001b[0m\u001b[1;39;49m]\u001b[0m\u001b[39;49m To update, run: \u001b[0m\u001b[32;49m/Users/dileep/opt/anaconda3/envs/data_min/bin/python -m pip install --upgrade pip\u001b[0m\n",
      "Note: you may need to restart the kernel to use updated packages.\n"
     ]
    }
   ],
   "source": [
    "pip install nba-api pandas"
   ]
  },
  {
   "cell_type": "code",
   "execution_count": 2,
   "id": "cffd1877",
   "metadata": {},
   "outputs": [
    {
     "name": "stdout",
     "output_type": "stream",
     "text": [
      "Index(['SEASON_ID', 'TEAM_ID', 'TEAM_ABBREVIATION', 'TEAM_NAME', 'GAME_ID',\n",
      "       'GAME_DATE', 'MATCHUP', 'WL', 'MIN', 'PTS', 'FGM', 'FGA', 'FG_PCT',\n",
      "       'FG3M', 'FG3A', 'FG3_PCT', 'FTM', 'FTA', 'FT_PCT', 'OREB', 'DREB',\n",
      "       'REB', 'AST', 'STL', 'BLK', 'TOV', 'PF', 'PLUS_MINUS'],\n",
      "      dtype='object')\n"
     ]
    }
   ],
   "source": [
    "def fetch_nba_data(season='2021-22'):\n",
    "    from nba_api.stats.endpoints import LeagueGameFinder\n",
    "    \n",
    "    # Fetch data\n",
    "    gamefinder = LeagueGameFinder(season_nullable=season)\n",
    "    games = gamefinder.get_data_frames()[0]\n",
    "    \n",
    "    # Print available columns\n",
    "    print(games.columns)\n",
    "    return games\n",
    "\n",
    "# Fetch data and inspect columns\n",
    "season_data = fetch_nba_data('2021-22')\n"
   ]
  },
  {
   "cell_type": "code",
   "execution_count": 3,
   "id": "a3820616",
   "metadata": {},
   "outputs": [
    {
     "name": "stdout",
     "output_type": "stream",
     "text": [
      "      GAME_ID   GAME_DATE      MATCHUP              TEAM_NAME  \\\n",
      "0  0042100406  2022-06-16  BOS vs. GSW         Boston Celtics   \n",
      "1  0042100406  2022-06-16    GSW @ BOS  Golden State Warriors   \n",
      "2  0042100405  2022-06-13  GSW vs. BOS  Golden State Warriors   \n",
      "3  0042100405  2022-06-13    BOS @ GSW         Boston Celtics   \n",
      "4  0042100404  2022-06-10  BOS vs. GSW         Boston Celtics   \n",
      "\n",
      "  TEAM_ABBREVIATION  PTS  REB  AST  STL  BLK  TOV WL HOME_TEAM AWAY_TEAM  \\\n",
      "0               BOS   90   41   27    8    8   22  L       BOS       GSW   \n",
      "1               GSW  103   44   27   13    7   15  W       GSW       BOS   \n",
      "2               GSW  104   39   23    9    2    6  W       GSW       BOS   \n",
      "3               BOS   94   47   18    2    2   18  L       BOS       GSW   \n",
      "4               BOS   97   42   22    8    6   15  L       BOS       GSW   \n",
      "\n",
      "   HOME_TEAM_WINS  \n",
      "0               0  \n",
      "1               0  \n",
      "2               1  \n",
      "3               0  \n",
      "4               0  \n"
     ]
    }
   ],
   "source": [
    "from nba_api.stats.endpoints import LeagueGameFinder\n",
    "import pandas as pd\n",
    "\n",
    "# Fetch game data for a specific season (e.g., 2021-22)\n",
    "def fetch_nba_data(season='2021-22'):\n",
    "    # Initialize the LeagueGameFinder object\n",
    "    gamefinder = LeagueGameFinder(season_nullable=season)\n",
    "    \n",
    "    # Get games data\n",
    "    games = gamefinder.get_data_frames()[0]\n",
    "    \n",
    "    # Keep relevant columns\n",
    "    columns_to_keep = [\n",
    "        'GAME_ID', 'GAME_DATE', 'MATCHUP', 'TEAM_NAME', 'TEAM_ABBREVIATION', \n",
    "        'PTS', 'REB', 'AST', 'STL', 'BLK', 'TOV', 'WL'\n",
    "    ]\n",
    "    games = games[columns_to_keep]\n",
    "    \n",
    "    return games\n",
    "\n",
    "# Fetch data\n",
    "season_data = fetch_nba_data('2021-22')\n",
    "\n",
    "# Calculate Derived Fields\n",
    "def process_data(data):\n",
    "    # Split MATCHUP to determine Home and Away teams\n",
    "    data['HOME_TEAM'] = data['MATCHUP'].str.split(' ').str[0]\n",
    "    data['AWAY_TEAM'] = data['MATCHUP'].str.split(' ').str[-1]\n",
    "    \n",
    "    # Flag for Home Team Wins (WL column indicates if the team won)\n",
    "    data['HOME_TEAM_WINS'] = (data['MATCHUP'].str.contains('vs') & (data['WL'] == 'W')).astype(int)\n",
    "    \n",
    "    return data\n",
    "\n",
    "# Process the fetched data\n",
    "processed_data = process_data(season_data)\n",
    "\n",
    "# Save to CSV for later use\n",
    "processed_data.to_csv('nba_season_2021_22_processed.csv', index=False)\n",
    "\n",
    "# Preview the processed data\n",
    "print(processed_data.head())\n"
   ]
  },
  {
   "cell_type": "code",
   "execution_count": 19,
   "id": "0d2a12c3",
   "metadata": {},
   "outputs": [
    {
     "name": "stdout",
     "output_type": "stream",
     "text": [
      "Total rows: 4182\n",
      "Total columns: 15\n"
     ]
    }
   ],
   "source": [
    "rows, columns = processed_data.shape\n",
    "\n",
    "print(f\"Total rows: {rows}\")\n",
    "print(f\"Total columns: {columns}\")"
   ]
  },
  {
   "cell_type": "code",
   "execution_count": 4,
   "id": "d2a3f846",
   "metadata": {},
   "outputs": [
    {
     "name": "stdout",
     "output_type": "stream",
     "text": [
      "Unique HOME_TEAM values:\n",
      "['BOS' 'GSW' 'MIA' 'DAL' 'MIL' 'PHX' 'MEM' 'PHI' 'MIN' 'UTA' 'TOR' 'NOP'\n",
      " 'DEN' 'CHI' 'ATL' 'BKN' 'CLE' 'LAC' 'RGV' 'DEL' 'SAS' 'CHA' 'DET' 'NYK'\n",
      " 'HOU' 'IND' 'LAL' 'ORL' 'RAP' 'OKC' 'WAS' 'POR' 'SAC' 'ACC' 'MCC' 'TEX'\n",
      " 'CCG' 'SBL' 'CPS' 'SCW' 'BIR' 'LIN' 'LAK' 'MHU' 'SXF' 'AUS' 'CLC' 'STO'\n",
      " 'WIS' 'WCB' 'SLC' 'GBO' 'GRG' 'MNE' 'FWN' 'WES' 'OKL' 'IWA' 'GLI' 'DRT'\n",
      " 'LBN' 'BAR' 'NIQ' 'PAY' 'IAH' 'WAL' 'WOR' 'MXC']\n",
      "\n",
      "Unique AWAY_TEAM values:\n",
      "['GSW' 'BOS' 'MIA' 'DAL' 'MIL' 'PHX' 'MEM' 'PHI' 'MIN' 'UTA' 'TOR' 'NOP'\n",
      " 'CHI' 'DEN' 'ATL' 'BKN' 'CLE' 'LAC' 'DEL' 'RGV' 'CHA' 'SAS' 'IND' 'NYK'\n",
      " 'POR' 'RAP' 'SAC' 'OKC' 'DET' 'ORL' 'WAS' 'HOU' 'LAL' 'ACC' 'MCC' 'CCG'\n",
      " 'TEX' 'SBL' 'SCW' 'BIR' 'LIN' 'CPS' 'MNE' 'SXF' 'GBO' 'MHU' 'SLC' 'CLC'\n",
      " 'AUS' 'WCB' 'STO' 'LAK' 'WIS' 'WES' 'GRG' 'FWN' 'IWA' 'OKL' 'GLI' 'LBN'\n",
      " 'DRT' 'PAY' 'WAL' 'BAR' 'IAH' 'NIQ' 'WOR' 'MXC']\n",
      "HOME_TEAM_WINS validation passed: No mismatches found.\n"
     ]
    }
   ],
   "source": [
    "import pandas as pd\n",
    "\n",
    "# Load processed data\n",
    "data = pd.read_csv('nba_season_2021_22_processed.csv')\n",
    "\n",
    "# 1. Validate HOME_TEAM and AWAY_TEAM\n",
    "def validate_teams(data):\n",
    "    unique_home_teams = data['HOME_TEAM'].unique()\n",
    "    unique_away_teams = data['AWAY_TEAM'].unique()\n",
    "    print(f\"Unique HOME_TEAM values:\\n{unique_home_teams}\")\n",
    "    print(f\"\\nUnique AWAY_TEAM values:\\n{unique_away_teams}\")\n",
    "\n",
    "    # Check if there are any unexpected or missing values\n",
    "    if data['HOME_TEAM'].isnull().sum() > 0 or data['AWAY_TEAM'].isnull().sum() > 0:\n",
    "        print(\"Warning: Missing values found in HOME_TEAM or AWAY_TEAM.\")\n",
    "    return data\n",
    "\n",
    "# 2. Validate HOME_TEAM_WINS\n",
    "def validate_home_team_wins(data):\n",
    "    # Calculate HOME_TEAM_WINS from MATCHUP and WL\n",
    "    data['CALCULATED_HOME_TEAM_WINS'] = (data['MATCHUP'].str.contains('vs') & (data['WL'] == 'W')).astype(int)\n",
    "\n",
    "    # Compare CALCULATED_HOME_TEAM_WINS with existing HOME_TEAM_WINS\n",
    "    mismatches = data[data['CALCULATED_HOME_TEAM_WINS'] != data['HOME_TEAM_WINS']]\n",
    "    if len(mismatches) > 0:\n",
    "        print(f\"Number of mismatches in HOME_TEAM_WINS: {len(mismatches)}\")\n",
    "        print(mismatches[['GAME_ID', 'MATCHUP', 'PTS', 'WL', 'HOME_TEAM_WINS', 'CALCULATED_HOME_TEAM_WINS']].head())\n",
    "    else:\n",
    "        print(\"HOME_TEAM_WINS validation passed: No mismatches found.\")\n",
    "\n",
    "    return data\n",
    "\n",
    "# Run validations\n",
    "data = validate_teams(data)\n",
    "data = validate_home_team_wins(data)\n"
   ]
  },
  {
   "cell_type": "code",
   "execution_count": 5,
   "id": "4a523566",
   "metadata": {},
   "outputs": [
    {
     "name": "stdout",
     "output_type": "stream",
     "text": [
      "NBA API Data Columns: Index(['GAME_ID', 'GAME_DATE', 'MATCHUP', 'TEAM_NAME', 'TEAM_ABBREVIATION',\n",
      "       'PTS', 'REB', 'AST', 'STL', 'BLK', 'TOV', 'WL', 'HOME_TEAM',\n",
      "       'AWAY_TEAM', 'HOME_TEAM_WINS'],\n",
      "      dtype='object')\n",
      "Kaggle Games Data Columns: Index(['GAME_DATE_EST', 'GAME_ID', 'GAME_STATUS_TEXT', 'HOME_TEAM_ID',\n",
      "       'VISITOR_TEAM_ID', 'SEASON', 'TEAM_ID_home', 'PTS_home', 'FG_PCT_home',\n",
      "       'FT_PCT_home', 'FG3_PCT_home', 'AST_home', 'REB_home', 'TEAM_ID_away',\n",
      "       'PTS_away', 'FG_PCT_away', 'FT_PCT_away', 'FG3_PCT_away', 'AST_away',\n",
      "       'REB_away', 'HOME_TEAM_WINS'],\n",
      "      dtype='object')\n",
      "Merged dataset has 29444 rows and 35 columns.\n",
      "Missing values filled in merged dataset.\n",
      "Merged dataset saved as 'merged_nba_data.csv'.\n"
     ]
    }
   ],
   "source": [
    "#integration of api data and kaggle dataset\n",
    "import pandas as pd\n",
    "\n",
    "# Load processed NBA API data\n",
    "nba_api_data = pd.read_csv('nba_season_2021_22_processed.csv')\n",
    "\n",
    "# Load Kaggle games dataset\n",
    "kaggle_games = pd.read_csv('games.csv')  # Load the games.csv file from the Kaggle dataset\n",
    "\n",
    "# Display columns to ensure proper alignment\n",
    "print(\"NBA API Data Columns:\", nba_api_data.columns)\n",
    "print(\"Kaggle Games Data Columns:\", kaggle_games.columns)\n",
    "\n",
    "# Merge datasets on GAME_ID\n",
    "def integrate_datasets(api_data, kaggle_data):\n",
    "    if 'GAME_ID' in api_data.columns and 'GAME_ID' in kaggle_data.columns:\n",
    "        # Merge on GAME_ID\n",
    "        merged_data = pd.merge(kaggle_data, api_data, on='GAME_ID', how='outer')\n",
    "        print(f\"Merged dataset has {len(merged_data)} rows and {merged_data.shape[1]} columns.\")\n",
    "        return merged_data\n",
    "    else:\n",
    "        print(\"Error: GAME_ID column is missing in one of the datasets.\")\n",
    "        return None\n",
    "\n",
    "merged_data = integrate_datasets(nba_api_data, kaggle_games)\n",
    "\n",
    "# Handle missing values (optional step)\n",
    "if merged_data is not None:\n",
    "    merged_data.fillna('Unknown', inplace=True)  # Fill missing values with 'Unknown' or 0\n",
    "    print(\"Missing values filled in merged dataset.\")\n",
    "\n",
    "# Save merged dataset\n",
    "if merged_data is not None:\n",
    "    merged_data.to_csv('merged_nba_data.csv', index=False)\n",
    "    print(\"Merged dataset saved as 'merged_nba_data.csv'.\")\n"
   ]
  },
  {
   "cell_type": "code",
   "execution_count": 6,
   "id": "71ebd0c3",
   "metadata": {},
   "outputs": [
    {
     "name": "stdout",
     "output_type": "stream",
     "text": [
      "  GAME_DATE_EST   GAME_ID GAME_STATUS_TEXT  HOME_TEAM_ID VISITOR_TEAM_ID  \\\n",
      "0    2022-12-22  22200477            Final  1610612740.0    1610612759.0   \n",
      "1    2022-12-22  22200478            Final  1610612762.0    1610612764.0   \n",
      "2    2022-12-21  22200466            Final  1610612739.0    1610612749.0   \n",
      "3    2022-12-21  22200467            Final  1610612755.0    1610612765.0   \n",
      "4    2022-12-21  22200468            Final  1610612737.0    1610612741.0   \n",
      "\n",
      "   SEASON  TEAM_ID_home PTS_home FG_PCT_home FT_PCT_home  ...      PTS  \\\n",
      "0  2022.0  1610612740.0    126.0       0.484       0.926  ...  Unknown   \n",
      "1  2022.0  1610612762.0    120.0       0.488       0.952  ...  Unknown   \n",
      "2  2022.0  1610612739.0    114.0       0.482       0.786  ...  Unknown   \n",
      "3  2022.0  1610612755.0    113.0       0.441       0.909  ...  Unknown   \n",
      "4  2022.0  1610612737.0    108.0       0.429         1.0  ...  Unknown   \n",
      "\n",
      "       REB      AST      STL      BLK      TOV       WL HOME_TEAM AWAY_TEAM  \\\n",
      "0  Unknown  Unknown  Unknown  Unknown  Unknown  Unknown   Unknown   Unknown   \n",
      "1  Unknown  Unknown  Unknown  Unknown  Unknown  Unknown   Unknown   Unknown   \n",
      "2  Unknown  Unknown  Unknown  Unknown  Unknown  Unknown   Unknown   Unknown   \n",
      "3  Unknown  Unknown  Unknown  Unknown  Unknown  Unknown   Unknown   Unknown   \n",
      "4  Unknown  Unknown  Unknown  Unknown  Unknown  Unknown   Unknown   Unknown   \n",
      "\n",
      "  HOME_TEAM_WINS_y  \n",
      "0          Unknown  \n",
      "1          Unknown  \n",
      "2          Unknown  \n",
      "3          Unknown  \n",
      "4          Unknown  \n",
      "\n",
      "[5 rows x 35 columns]\n"
     ]
    }
   ],
   "source": [
    "\n",
    "# Preview the merged data\n",
    "print(merged_data.head())"
   ]
  },
  {
   "cell_type": "code",
   "execution_count": 7,
   "id": "c25ba299",
   "metadata": {},
   "outputs": [
    {
     "name": "stdout",
     "output_type": "stream",
     "text": [
      "Missing values in merged dataset:\n",
      "Series([], dtype: int64)\n",
      "\n",
      "Rows with missing GAME_ID:\n",
      "Empty DataFrame\n",
      "Columns: [GAME_DATE_EST, GAME_ID, GAME_STATUS_TEXT, HOME_TEAM_ID, VISITOR_TEAM_ID, SEASON, TEAM_ID_home, PTS_home, FG_PCT_home, FT_PCT_home, FG3_PCT_home, AST_home, REB_home, TEAM_ID_away, PTS_away, FG_PCT_away, FT_PCT_away, FG3_PCT_away, AST_away, REB_away, HOME_TEAM_WINS_x, GAME_DATE, MATCHUP, TEAM_NAME, TEAM_ABBREVIATION, PTS, REB, AST, STL, BLK, TOV, WL, HOME_TEAM, AWAY_TEAM, HOME_TEAM_WINS_y]\n",
      "Index: []\n",
      "\n",
      "[0 rows x 35 columns]\n",
      "\n",
      "Sample rows with 'Unknown' values:\n",
      "  GAME_DATE_EST   GAME_ID GAME_STATUS_TEXT  HOME_TEAM_ID VISITOR_TEAM_ID  \\\n",
      "0    2022-12-22  22200477            Final  1610612740.0    1610612759.0   \n",
      "1    2022-12-22  22200478            Final  1610612762.0    1610612764.0   \n",
      "2    2022-12-21  22200466            Final  1610612739.0    1610612749.0   \n",
      "3    2022-12-21  22200467            Final  1610612755.0    1610612765.0   \n",
      "4    2022-12-21  22200468            Final  1610612737.0    1610612741.0   \n",
      "\n",
      "   SEASON  TEAM_ID_home PTS_home FG_PCT_home FT_PCT_home  ...      PTS  \\\n",
      "0  2022.0  1610612740.0    126.0       0.484       0.926  ...  Unknown   \n",
      "1  2022.0  1610612762.0    120.0       0.488       0.952  ...  Unknown   \n",
      "2  2022.0  1610612739.0    114.0       0.482       0.786  ...  Unknown   \n",
      "3  2022.0  1610612755.0    113.0       0.441       0.909  ...  Unknown   \n",
      "4  2022.0  1610612737.0    108.0       0.429         1.0  ...  Unknown   \n",
      "\n",
      "       REB      AST      STL      BLK      TOV       WL HOME_TEAM AWAY_TEAM  \\\n",
      "0  Unknown  Unknown  Unknown  Unknown  Unknown  Unknown   Unknown   Unknown   \n",
      "1  Unknown  Unknown  Unknown  Unknown  Unknown  Unknown   Unknown   Unknown   \n",
      "2  Unknown  Unknown  Unknown  Unknown  Unknown  Unknown   Unknown   Unknown   \n",
      "3  Unknown  Unknown  Unknown  Unknown  Unknown  Unknown   Unknown   Unknown   \n",
      "4  Unknown  Unknown  Unknown  Unknown  Unknown  Unknown   Unknown   Unknown   \n",
      "\n",
      "  HOME_TEAM_WINS_y  \n",
      "0          Unknown  \n",
      "1          Unknown  \n",
      "2          Unknown  \n",
      "3          Unknown  \n",
      "4          Unknown  \n",
      "\n",
      "[5 rows x 35 columns]\n"
     ]
    }
   ],
   "source": [
    "# Check for columns with missing values\n",
    "missing_values = merged_data.isnull().sum()\n",
    "print(\"Missing values in merged dataset:\")\n",
    "print(missing_values[missing_values > 0])\n",
    "\n",
    "# Check a sample of rows with missing GAME_IDs or other key columns\n",
    "print(\"\\nRows with missing GAME_ID:\")\n",
    "print(merged_data[merged_data['GAME_ID'].isnull()].head())\n",
    "\n",
    "# Inspect a sample of rows with 'Unknown' data\n",
    "print(\"\\nSample rows with 'Unknown' values:\")\n",
    "print(merged_data[merged_data.isin(['Unknown']).any(axis=1)].head())\n"
   ]
  },
  {
   "cell_type": "code",
   "execution_count": 8,
   "id": "0acc0ae3",
   "metadata": {},
   "outputs": [],
   "source": [
    "merged_data = pd.merge(kaggle_games, nba_api_data, on='GAME_ID', how='inner')\n"
   ]
  },
  {
   "cell_type": "code",
   "execution_count": 9,
   "id": "27a185ef",
   "metadata": {},
   "outputs": [],
   "source": [
    "merged_data.replace('Unknown', pd.NA, inplace=True)\n",
    "merged_data.fillna({\n",
    "    'PTS_home': 0, 'PTS_away': 0,  # Fill numeric columns with 0\n",
    "    'TEAM_NAME': 'Unknown Team',   # Fill categorical columns with a placeholder\n",
    "}, inplace=True)\n"
   ]
  },
  {
   "cell_type": "code",
   "execution_count": 10,
   "id": "c2e92999",
   "metadata": {},
   "outputs": [],
   "source": [
    "merged_data.replace('Unknown', pd.NA, inplace=True)\n",
    "merged_data.fillna({\n",
    "    'PTS_home': 0, 'PTS_away': 0,  # Fill numeric columns with 0\n",
    "    'TEAM_NAME': 'Unknown Team',   # Fill categorical columns with a placeholder\n",
    "}, inplace=True)\n"
   ]
  },
  {
   "cell_type": "code",
   "execution_count": 11,
   "id": "dfcb58ec",
   "metadata": {},
   "outputs": [
    {
     "name": "stdout",
     "output_type": "stream",
     "text": [
      "Cleaned merged dataset saved as 'cleaned_merged_nba_data.csv'.\n"
     ]
    }
   ],
   "source": [
    "# Save the cleaned dataset\n",
    "merged_data.to_csv('cleaned_merged_nba_data.csv', index=False)\n",
    "print(\"Cleaned merged dataset saved as 'cleaned_merged_nba_data.csv'.\")\n"
   ]
  },
  {
   "cell_type": "code",
   "execution_count": 15,
   "id": "2ebe5d45",
   "metadata": {},
   "outputs": [
    {
     "name": "stdout",
     "output_type": "stream",
     "text": [
      "  GAME_DATE_EST   GAME_ID GAME_STATUS_TEXT  HOME_TEAM_ID  VISITOR_TEAM_ID  \\\n",
      "0    2022-06-16  42100406            Final    1610612738       1610612744   \n",
      "1    2022-06-16  42100406            Final    1610612738       1610612744   \n",
      "2    2022-06-13  42100405            Final    1610612744       1610612738   \n",
      "3    2022-06-13  42100405            Final    1610612744       1610612738   \n",
      "4    2022-06-10  42100404            Final    1610612738       1610612744   \n",
      "\n",
      "   SEASON  TEAM_ID_home  PTS_home  FG_PCT_home  FT_PCT_home  ...  PTS  REB  \\\n",
      "0    2021    1610612738      90.0        0.425        0.917  ...   90   41   \n",
      "1    2021    1610612738      90.0        0.425        0.917  ...  103   44   \n",
      "2    2021    1610612744     104.0        0.466        0.867  ...  104   39   \n",
      "3    2021    1610612744     104.0        0.466        0.867  ...   94   47   \n",
      "4    2021    1610612738      97.0        0.400        0.737  ...   97   42   \n",
      "\n",
      "   AST  STL  BLK  TOV  WL  HOME_TEAM  AWAY_TEAM  HOME_TEAM_WINS_y  \n",
      "0   27    8    8   22   L        BOS        GSW                 0  \n",
      "1   27   13    7   15   W        GSW        BOS                 0  \n",
      "2   23    9    2    6   W        GSW        BOS                 1  \n",
      "3   18    2    2   18   L        BOS        GSW                 0  \n",
      "4   22    8    6   15   L        BOS        GSW                 0  \n",
      "\n",
      "[5 rows x 35 columns]\n",
      "Total rows: 2778\n",
      "Total columns: 35\n"
     ]
    }
   ],
   "source": [
    "file = 'cleaned_merged_nba_data.csv'\n",
    "df = pd.read_csv(file)\n",
    "\n",
    "print(df.head())\n",
    "\n",
    "rows, columns = df.shape\n",
    "\n",
    "print(f\"Total rows: {rows}\")\n",
    "print(f\"Total columns: {columns}\")"
   ]
  },
  {
   "cell_type": "code",
   "execution_count": 16,
   "id": "26742cba",
   "metadata": {},
   "outputs": [
    {
     "name": "stdout",
     "output_type": "stream",
     "text": [
      "  GAME_DATE_EST   GAME_ID GAME_STATUS_TEXT  HOME_TEAM_ID VISITOR_TEAM_ID  \\\n",
      "0    2022-12-22  22200477            Final  1610612740.0    1610612759.0   \n",
      "1    2022-12-22  22200478            Final  1610612762.0    1610612764.0   \n",
      "2    2022-12-21  22200466            Final  1610612739.0    1610612749.0   \n",
      "3    2022-12-21  22200467            Final  1610612755.0    1610612765.0   \n",
      "4    2022-12-21  22200468            Final  1610612737.0    1610612741.0   \n",
      "\n",
      "   SEASON  TEAM_ID_home PTS_home FG_PCT_home FT_PCT_home  ...      PTS  \\\n",
      "0  2022.0  1610612740.0    126.0       0.484       0.926  ...  Unknown   \n",
      "1  2022.0  1610612762.0    120.0       0.488       0.952  ...  Unknown   \n",
      "2  2022.0  1610612739.0    114.0       0.482       0.786  ...  Unknown   \n",
      "3  2022.0  1610612755.0    113.0       0.441       0.909  ...  Unknown   \n",
      "4  2022.0  1610612737.0    108.0       0.429         1.0  ...  Unknown   \n",
      "\n",
      "       REB      AST      STL      BLK      TOV       WL HOME_TEAM AWAY_TEAM  \\\n",
      "0  Unknown  Unknown  Unknown  Unknown  Unknown  Unknown   Unknown   Unknown   \n",
      "1  Unknown  Unknown  Unknown  Unknown  Unknown  Unknown   Unknown   Unknown   \n",
      "2  Unknown  Unknown  Unknown  Unknown  Unknown  Unknown   Unknown   Unknown   \n",
      "3  Unknown  Unknown  Unknown  Unknown  Unknown  Unknown   Unknown   Unknown   \n",
      "4  Unknown  Unknown  Unknown  Unknown  Unknown  Unknown   Unknown   Unknown   \n",
      "\n",
      "  HOME_TEAM_WINS_y  \n",
      "0          Unknown  \n",
      "1          Unknown  \n",
      "2          Unknown  \n",
      "3          Unknown  \n",
      "4          Unknown  \n",
      "\n",
      "[5 rows x 35 columns]\n",
      "Total rows: 29444\n",
      "Total columns: 35\n"
     ]
    },
    {
     "name": "stderr",
     "output_type": "stream",
     "text": [
      "/var/folders/nb/7py7v38n0nb2py15v90m86l40000gn/T/ipykernel_90785/1109740671.py:2: DtypeWarning: Columns (3,4,5,6,7,8,9,10,11,12,13,14,15,16,17,18,19,20) have mixed types. Specify dtype option on import or set low_memory=False.\n",
      "  old_df = pd.read_csv(file)\n"
     ]
    }
   ],
   "source": [
    "file = 'merged_nba_data.csv'\n",
    "old_df = pd.read_csv(file)\n",
    "\n",
    "print(old_df.head())\n",
    "\n",
    "rows, columns = old_df.shape\n",
    "\n",
    "print(f\"Total rows: {rows}\")\n",
    "print(f\"Total columns: {columns}\")"
   ]
  },
  {
   "cell_type": "code",
   "execution_count": 20,
   "id": "e48eb961",
   "metadata": {},
   "outputs": [
    {
     "name": "stdout",
     "output_type": "stream",
     "text": [
      "Dataset shape: (2778, 35)\n",
      "Preview of the dataset:\n",
      "  GAME_DATE_EST   GAME_ID GAME_STATUS_TEXT  HOME_TEAM_ID  VISITOR_TEAM_ID  \\\n",
      "0    2022-06-16  42100406            Final    1610612738       1610612744   \n",
      "1    2022-06-16  42100406            Final    1610612738       1610612744   \n",
      "2    2022-06-13  42100405            Final    1610612744       1610612738   \n",
      "3    2022-06-13  42100405            Final    1610612744       1610612738   \n",
      "4    2022-06-10  42100404            Final    1610612738       1610612744   \n",
      "\n",
      "   SEASON  TEAM_ID_home  PTS_home  FG_PCT_home  FT_PCT_home  ...  PTS  REB  \\\n",
      "0    2021    1610612738      90.0        0.425        0.917  ...   90   41   \n",
      "1    2021    1610612738      90.0        0.425        0.917  ...  103   44   \n",
      "2    2021    1610612744     104.0        0.466        0.867  ...  104   39   \n",
      "3    2021    1610612744     104.0        0.466        0.867  ...   94   47   \n",
      "4    2021    1610612738      97.0        0.400        0.737  ...   97   42   \n",
      "\n",
      "   AST  STL  BLK  TOV  WL  HOME_TEAM  AWAY_TEAM  HOME_TEAM_WINS_y  \n",
      "0   27    8    8   22   L        BOS        GSW                 0  \n",
      "1   27   13    7   15   W        GSW        BOS                 0  \n",
      "2   23    9    2    6   W        GSW        BOS                 1  \n",
      "3   18    2    2   18   L        BOS        GSW                 0  \n",
      "4   22    8    6   15   L        BOS        GSW                 0  \n",
      "\n",
      "[5 rows x 35 columns]\n",
      "Preprocessing complete. Preprocessed datasets saved as 'X_train.csv', 'X_test.csv', 'y_train.csv', and 'y_test.csv'.\n"
     ]
    }
   ],
   "source": [
    "import pandas as pd\n",
    "from sklearn.model_selection import train_test_split\n",
    "\n",
    "# Load the cleaned dataset\n",
    "data = pd.read_csv('cleaned_merged_nba_data.csv')\n",
    "\n",
    "# Display dataset shape and preview\n",
    "print(f\"Dataset shape: {data.shape}\")\n",
    "print(\"Preview of the dataset:\")\n",
    "print(data.head())\n",
    "\n",
    "# 1. Handle Missing Values\n",
    "def handle_missing_values(data):\n",
    "    # Fill numeric columns with 0 and categorical columns with 'Unknown'\n",
    "    numeric_cols = data.select_dtypes(include=['number']).columns\n",
    "    categorical_cols = data.select_dtypes(include=['object']).columns\n",
    "\n",
    "    data[numeric_cols] = data[numeric_cols].fillna(0)\n",
    "    data[categorical_cols] = data[categorical_cols].fillna('Unknown')\n",
    "    return data\n",
    "\n",
    "data = handle_missing_values(data)\n",
    "\n",
    "# 2. Encode Categorical Variables\n",
    "def encode_categorical_variables(data):\n",
    "    # Encode categorical columns with one-hot encoding\n",
    "    categorical_cols = ['HOME_TEAM', 'AWAY_TEAM']  # Adjust based on dataset\n",
    "    data = pd.get_dummies(data, columns=categorical_cols, drop_first=True)\n",
    "    return data\n",
    "\n",
    "data = encode_categorical_variables(data)\n",
    "\n",
    "# 3. Feature Selection\n",
    "def feature_selection(data):\n",
    "    # Drop unnecessary columns\n",
    "    columns_to_drop = ['GAME_ID', 'GAME_DATE_EST', 'GAME_STATUS_TEXT', 'WL']  # Adjust based on dataset\n",
    "    data = data.drop(columns=columns_to_drop, errors='ignore')\n",
    "    return data\n",
    "\n",
    "data = feature_selection(data)\n",
    "\n",
    "# 4. Train/Test Split\n",
    "def split_data(data, target_column='HOME_TEAM_WINS_y'):\n",
    "    # Separate features and target\n",
    "    X = data.drop(columns=[target_column])\n",
    "    y = data[target_column]\n",
    "\n",
    "    # Split the data into training and testing sets\n",
    "    X_train, X_test, y_train, y_test = train_test_split(X, y, test_size=0.2, random_state=42)\n",
    "    return X_train, X_test, y_train, y_test\n",
    "\n",
    "X_train, X_test, y_train, y_test = split_data(data)\n",
    "\n",
    "# Save the preprocessed datasets\n",
    "X_train.to_csv('X_train.csv', index=False)\n",
    "X_test.to_csv('X_test.csv', index=False)\n",
    "y_train.to_csv('y_train.csv', index=False)\n",
    "y_test.to_csv('y_test.csv', index=False)\n",
    "\n",
    "# Output message\n",
    "print(\"Preprocessing complete. Preprocessed datasets saved as 'X_train.csv', 'X_test.csv', 'y_train.csv', and 'y_test.csv'.\")\n"
   ]
  },
  {
   "cell_type": "code",
   "execution_count": 25,
   "id": "07b5c4e2",
   "metadata": {},
   "outputs": [
    {
     "name": "stdout",
     "output_type": "stream",
     "text": [
      "Non-numeric columns: Index(['GAME_DATE', 'MATCHUP', 'TEAM_NAME', 'TEAM_ABBREVIATION'], dtype='object')\n",
      "\n",
      "All non-numeric columns have been encoded with a shared mapping. Datasets are ready for model training.\n"
     ]
    }
   ],
   "source": [
    "import pandas as pd\n",
    "from sklearn.model_selection import train_test_split\n",
    "\n",
    "# Reload datasets\n",
    "X_train = pd.read_csv('X_train.csv')\n",
    "X_test = pd.read_csv('X_test.csv')\n",
    "\n",
    "# Identify non-numeric columns\n",
    "non_numeric_columns = X_train.select_dtypes(include=['object']).columns\n",
    "print(f\"Non-numeric columns: {non_numeric_columns}\")\n",
    "\n",
    "# 1. Create a shared mapping for each categorical column\n",
    "def encode_with_shared_mapping(train, test, column):\n",
    "    # Get unique values from both train and test\n",
    "    unique_values = pd.concat([train[column], test[column]]).unique()\n",
    "    \n",
    "    # Create a mapping dictionary\n",
    "    mapping = {value: idx for idx, value in enumerate(unique_values)}\n",
    "    \n",
    "    # Apply the mapping to train and test\n",
    "    train[column] = train[column].map(mapping)\n",
    "    test[column] = test[column].map(mapping)\n",
    "    return train, test\n",
    "\n",
    "# Apply shared mapping for all non-numeric columns\n",
    "for col in non_numeric_columns:\n",
    "    X_train, X_test = encode_with_shared_mapping(X_train, X_test, col)\n",
    "\n",
    "# Save the fixed datasets\n",
    "X_train.to_csv('X_train_fixed.csv', index=False)\n",
    "X_test.to_csv('X_test_fixed.csv', index=False)\n",
    "\n",
    "print(\"\\nAll non-numeric columns have been encoded with a shared mapping. Datasets are ready for model training.\")\n"
   ]
  },
  {
   "cell_type": "code",
   "execution_count": 26,
   "id": "d0e2c439",
   "metadata": {},
   "outputs": [
    {
     "name": "stdout",
     "output_type": "stream",
     "text": [
      "Training Logistic Regression...\n",
      "\n",
      "Model Performance:\n",
      "Accuracy: 0.72\n",
      "\n",
      "Classification Report:\n",
      "              precision    recall  f1-score   support\n",
      "\n",
      "           0       0.72      1.00      0.84       403\n",
      "           1       0.00      0.00      0.00       153\n",
      "\n",
      "    accuracy                           0.72       556\n",
      "   macro avg       0.36      0.50      0.42       556\n",
      "weighted avg       0.53      0.72      0.61       556\n",
      "\n",
      "\n",
      "Confusion Matrix:\n",
      "[[403   0]\n",
      " [153   0]]\n"
     ]
    },
    {
     "name": "stderr",
     "output_type": "stream",
     "text": [
      "/Users/dileep/opt/anaconda3/envs/data_min/lib/python3.9/site-packages/sklearn/metrics/_classification.py:1334: UndefinedMetricWarning: Precision and F-score are ill-defined and being set to 0.0 in labels with no predicted samples. Use `zero_division` parameter to control this behavior.\n",
      "  _warn_prf(average, modifier, msg_start, len(result))\n",
      "/Users/dileep/opt/anaconda3/envs/data_min/lib/python3.9/site-packages/sklearn/metrics/_classification.py:1334: UndefinedMetricWarning: Precision and F-score are ill-defined and being set to 0.0 in labels with no predicted samples. Use `zero_division` parameter to control this behavior.\n",
      "  _warn_prf(average, modifier, msg_start, len(result))\n",
      "/Users/dileep/opt/anaconda3/envs/data_min/lib/python3.9/site-packages/sklearn/metrics/_classification.py:1334: UndefinedMetricWarning: Precision and F-score are ill-defined and being set to 0.0 in labels with no predicted samples. Use `zero_division` parameter to control this behavior.\n",
      "  _warn_prf(average, modifier, msg_start, len(result))\n"
     ]
    }
   ],
   "source": [
    "from sklearn.linear_model import LogisticRegression\n",
    "from sklearn.metrics import accuracy_score, classification_report, confusion_matrix\n",
    "import pandas as pd\n",
    "\n",
    "# Load the fixed datasets\n",
    "X_train = pd.read_csv('X_train_fixed.csv')\n",
    "X_test = pd.read_csv('X_test_fixed.csv')\n",
    "y_train = pd.read_csv('y_train.csv').squeeze()  # Ensure y_train is a Series\n",
    "y_test = pd.read_csv('y_test.csv').squeeze()    # Ensure y_test is a Series\n",
    "\n",
    "# Train Logistic Regression Model\n",
    "print(\"Training Logistic Regression...\")\n",
    "model = LogisticRegression(max_iter=1000, random_state=42)\n",
    "model.fit(X_train, y_train)\n",
    "\n",
    "# Make Predictions\n",
    "y_pred = model.predict(X_test)\n",
    "\n",
    "# Evaluate the Model\n",
    "print(\"\\nModel Performance:\")\n",
    "print(f\"Accuracy: {accuracy_score(y_test, y_pred):.2f}\")\n",
    "print(\"\\nClassification Report:\")\n",
    "print(classification_report(y_test, y_pred))\n",
    "print(\"\\nConfusion Matrix:\")\n",
    "print(confusion_matrix(y_test, y_pred))\n"
   ]
  },
  {
   "cell_type": "code",
   "execution_count": 30,
   "id": "210721e5",
   "metadata": {},
   "outputs": [
    {
     "name": "stdout",
     "output_type": "stream",
     "text": [
      "0    1607\n",
      "1     615\n",
      "Name: HOME_TEAM_WINS_y, dtype: int64\n"
     ]
    }
   ],
   "source": [
    "print(y_train.value_counts())\n"
   ]
  },
  {
   "cell_type": "code",
   "execution_count": 31,
   "id": "b7f3fec9",
   "metadata": {},
   "outputs": [
    {
     "data": {
      "image/png": "[encoded data removed]",
      "text/plain": [
       "<Figure size 432x288 with 1 Axes>"
      ]
     },
     "metadata": {
      "needs_background": "light"
     },
     "output_type": "display_data"
    }
   ],
   "source": [
    "from sklearn.ensemble import RandomForestClassifier\n",
    "import matplotlib.pyplot as plt\n",
    "\n",
    "# Train a random forest model to check feature importance\n",
    "rf_model = RandomForestClassifier(random_state=42)\n",
    "rf_model.fit(X_train, y_train)\n",
    "\n",
    "# Plot feature importance\n",
    "importance = rf_model.feature_importances_\n",
    "plt.barh(X_train.columns, importance)\n",
    "plt.xlabel(\"Feature Importance\")\n",
    "plt.ylabel(\"Features\")\n",
    "plt.title(\"Feature Importance from Random Forest\")\n",
    "plt.show()\n"
   ]
  },
  {
   "cell_type": "code",
   "execution_count": 32,
   "id": "c0502b82",
   "metadata": {},
   "outputs": [
    {
     "name": "stdout",
     "output_type": "stream",
     "text": [
      "\n",
      "Random Forest Performance:\n",
      "              precision    recall  f1-score   support\n",
      "\n",
      "           0       0.96      0.99      0.97       403\n",
      "           1       0.96      0.90      0.93       153\n",
      "\n",
      "    accuracy                           0.96       556\n",
      "   macro avg       0.96      0.94      0.95       556\n",
      "weighted avg       0.96      0.96      0.96       556\n",
      "\n",
      "\n",
      "Confusion Matrix:\n",
      "[[398   5]\n",
      " [ 16 137]]\n"
     ]
    }
   ],
   "source": [
    "from sklearn.ensemble import RandomForestClassifier\n",
    "from sklearn.metrics import classification_report, confusion_matrix\n",
    "\n",
    "rf_model = RandomForestClassifier(class_weight=\"balanced\", random_state=42)\n",
    "rf_model.fit(X_train, y_train)\n",
    "y_pred = rf_model.predict(X_test)\n",
    "\n",
    "print(\"\\nRandom Forest Performance:\")\n",
    "print(classification_report(y_test, y_pred))\n",
    "print(\"\\nConfusion Matrix:\")\n",
    "print(confusion_matrix(y_test, y_pred))\n"
   ]
  },
  {
   "cell_type": "code",
   "execution_count": 33,
   "id": "8aa48d68",
   "metadata": {},
   "outputs": [
    {
     "name": "stdout",
     "output_type": "stream",
     "text": [
      "\n",
      "XGBoost Performance:\n",
      "              precision    recall  f1-score   support\n",
      "\n",
      "           0       1.00      1.00      1.00       403\n",
      "           1       0.99      1.00      0.99       153\n",
      "\n",
      "    accuracy                           1.00       556\n",
      "   macro avg       0.99      1.00      1.00       556\n",
      "weighted avg       1.00      1.00      1.00       556\n",
      "\n",
      "\n",
      "Confusion Matrix:\n",
      "[[401   2]\n",
      " [  0 153]]\n"
     ]
    }
   ],
   "source": [
    "from xgboost import XGBClassifier\n",
    "\n",
    "xgb_model = XGBClassifier(scale_pos_weight=len(y_train[y_train == 0]) / len(y_train[y_train == 1]),\n",
    "                           random_state=42)\n",
    "xgb_model.fit(X_train, y_train)\n",
    "y_pred = xgb_model.predict(X_test)\n",
    "\n",
    "print(\"\\nXGBoost Performance:\")\n",
    "print(classification_report(y_test, y_pred))\n",
    "print(\"\\nConfusion Matrix:\")\n",
    "print(confusion_matrix(y_test, y_pred))\n"
   ]
  },
  {
   "cell_type": "code",
   "execution_count": 34,
   "id": "7e4d59c0",
   "metadata": {},
   "outputs": [
    {
     "name": "stdout",
     "output_type": "stream",
     "text": [
      "After SMOTE:\n",
      "1    1607\n",
      "0    1607\n",
      "Name: HOME_TEAM_WINS_y, dtype: int64\n"
     ]
    }
   ],
   "source": [
    "from imblearn.over_sampling import SMOTE\n",
    "\n",
    "smote = SMOTE(random_state=42)\n",
    "X_train_smote, y_train_smote = smote.fit_resample(X_train, y_train)\n",
    "\n",
    "print(\"After SMOTE:\")\n",
    "print(y_train_smote.value_counts())\n"
   ]
  },
  {
   "cell_type": "code",
   "execution_count": 35,
   "id": "cb9bfcd0",
   "metadata": {},
   "outputs": [
    {
     "name": "stdout",
     "output_type": "stream",
     "text": [
      "ROC-AUC Score: 0.99\n"
     ]
    }
   ],
   "source": [
    "from sklearn.metrics import roc_auc_score\n",
    "\n",
    "# Calculate ROC-AUC\n",
    "y_prob = rf_model.predict_proba(X_test)[:, 1]  # Use probabilities for class 1\n",
    "roc_auc = roc_auc_score(y_test, y_prob)\n",
    "print(f\"ROC-AUC Score: {roc_auc:.2f}\")\n"
   ]
  },
  {
   "cell_type": "code",
   "execution_count": 46,
   "id": "be9ba691",
   "metadata": {},
   "outputs": [
    {
     "data": {
      "image/png": "[encoded data removed]",
      "text/plain": [
       "<Figure size 432x288 with 1 Axes>"
      ]
     },
     "metadata": {
      "needs_background": "light"
     },
     "output_type": "display_data"
    },
    {
     "data": {
      "text/plain": [
       "<Figure size 720x576 with 0 Axes>"
      ]
     },
     "metadata": {},
     "output_type": "display_data"
    },
    {
     "data": {
      "image/png": "[encoded data removed]",
      "text/plain": [
       "<Figure size 432x288 with 1 Axes>"
      ]
     },
     "metadata": {
      "needs_background": "light"
     },
     "output_type": "display_data"
    }
   ],
   "source": [
    "from xgboost import plot_importance\n",
    "import matplotlib.pyplot as plt\n",
    "\n",
    "# Plot feature importance\n",
    "plot_importance(xgb_model, max_num_features=10)\n",
    "plt.show()\n",
    "\n",
    "plt.figure(figsize=(10, 8))\n",
    "plot_importance(xgb_model, max_num_features=10, importance_type='weight', title=\"Top 10 Feature Importance\")\n",
    "plt.xlabel(\"Importance Score\")\n",
    "plt.ylabel(\"Features\")\n",
    "plt.show()"
   ]
  },
  {
   "cell_type": "code",
   "execution_count": 42,
   "id": "6bb81cae",
   "metadata": {},
   "outputs": [
    {
     "name": "stdout",
     "output_type": "stream",
     "text": [
      "Model report saved as 'model_report.pdf'.\n"
     ]
    },
    {
     "data": {
      "text/plain": [
       "<Figure size 720x576 with 0 Axes>"
      ]
     },
     "metadata": {},
     "output_type": "display_data"
    }
   ],
   "source": [
    "from matplotlib.backends.backend_pdf import PdfPages\n",
    "import seaborn as sns\n",
    "from sklearn.metrics import confusion_matrix\n",
    "from sklearn.metrics import roc_curve, auc\n",
    "import matplotlib.pyplot as plt\n",
    "\n",
    "\n",
    "y_pred = xgb_model.predict(X_test)  # Replace 'xgb_model' with your model if different\n",
    "\n",
    "# Generate confusion matrix\n",
    "cm = confusion_matrix(y_test, y_pred)\n",
    "\n",
    "# Create a PDF report\n",
    "with PdfPages('model_report.pdf') as pdf:\n",
    "    # Add Feature Importance\n",
    "    plt.figure(figsize=(10, 8))\n",
    "    plot_importance(xgb_model, max_num_features=10, importance_type='weight', title=\"Top 10 Feature Importance\")\n",
    "    pdf.savefig()  # Save the figure to the PDF\n",
    "    plt.close()\n",
    "    \n",
    "    # Add Confusion Matrix\n",
    "    plt.figure(figsize=(8, 6))\n",
    "    sns.heatmap(cm, annot=True, fmt='d', cmap='Blues', xticklabels=[\"Class 0\", \"Class 1\"], yticklabels=[\"Class 0\", \"Class 1\"])\n",
    "    plt.xlabel('Predicted')\n",
    "    plt.ylabel('Actual')\n",
    "    plt.title('Confusion Matrix')\n",
    "    pdf.savefig()\n",
    "    plt.close()\n",
    "    \n",
    "    y_prob = xgb_model.predict_proba(X_test)[:, 1]  # Replace 'xgb_model' with your model if different\n",
    "\n",
    "    # Calculate ROC curve and AUC\n",
    "    fpr, tpr, _ = roc_curve(y_test, y_prob)\n",
    "    roc_auc = auc(fpr, tpr)\n",
    "\n",
    "    # Add ROC Curve\n",
    "    plt.figure(figsize=(8, 6))\n",
    "    plt.plot(fpr, tpr, color='blue', label=f'ROC Curve (AUC = {roc_auc:.2f})')\n",
    "    plt.plot([0, 1], [0, 1], color='gray', linestyle='--', label='Random Guess')\n",
    "    plt.xlabel('False Positive Rate')\n",
    "    plt.ylabel('True Positive Rate')\n",
    "    plt.title('ROC Curve')\n",
    "    plt.legend(loc='lower right')\n",
    "    pdf.savefig()\n",
    "    plt.close()\n",
    "    \n",
    "print(\"Model report saved as 'model_report.pdf'.\")\n"
   ]
  },
  {
   "cell_type": "code",
   "execution_count": null,
   "id": "bfc2cf02",
   "metadata": {},
   "outputs": [],
   "source": []
  }
 ],
 "metadata": {
  "kernelspec": {
   "display_name": "Python 3 (ipykernel)",
   "language": "python",
   "name": "python3"
  },
  "language_info": {
   "codemirror_mode": {
    "name": "ipython",
    "version": 3
   },
   "file_extension": ".py",
   "mimetype": "text/x-python",
   "name": "python",
   "nbconvert_exporter": "python",
   "pygments_lexer": "ipython3",
   "version": "3.9.7"
  }
 },
 "nbformat": 4,
 "nbformat_minor": 5
}
